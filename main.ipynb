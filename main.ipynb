import streamlit as st
import pickle
import requests

def fetch_app_icon(app_id):
    url = f"https://api.example.com/apps/{app_id}/icon"  
    data = requests.get(url)
    data = data.json()
    icon_url = data.get('icon_url')
    return icon_url if icon_url else None

apps = pickle.load(open("apps_list.pkl", 'rb'))  
ratings = pickle.load(open("app_ratings.pkl", 'rb')) 
similarity = pickle.load(open("similarity.pkl", 'rb'))  

apps_list = apps['name'].values

st.header("App Rating-based Recommender System")


selected_app = st.selectbox("Select App", apps_list)

def recommend(app_name):
    app_idx = apps[apps['name'] == app_name].index[0]
    
    similar_apps = sorted(enumerate(similarity[app_idx]), key=lambda x: x[1], reverse=True)
    
    recommended_names = []
    recommended_icons = []
    
    for idx, _ in similar_apps[1:6]: 
        recommended_names.append(apps.iloc[idx]['name'])
        recommended_icons.append(fetch_app_icon(apps.iloc[idx]['id']))
    
    return recommended_names, recommended_icons

if st.button("Show Recommendations"):
    recommended_names, recommended_icons = recommend(selected_app)
    
    col1, col2, col3, col4, col5 = st.columns(5)
    
    with col1:
        st.text(recommended_names[0])
        st.image(recommended_icons[0])
    with col2:
        st.text(recommended_names[1])
        st.image(recommended_icons[1])
    with col3:
        st.text(recommended_names[2])
        st.image(recommended_icons[2])
    with col4:
        st.text(recommended_names[3])
        st.image(recommended_icons[3])
    with col5:
        st.text(recommended_names[4])
        st.image(recommended_icons[4])
